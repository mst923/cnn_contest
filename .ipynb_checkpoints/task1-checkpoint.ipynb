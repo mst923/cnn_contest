{
 "cells": [
  {
   "cell_type": "code",
   "execution_count": 1,
   "id": "16105f9d-ab5b-4c3f-949a-0796710b9676",
   "metadata": {},
   "outputs": [
    {
     "name": "stdin",
     "output_type": "stream",
     "text": [
      "0~9999の整数を入力してください: 137\n"
     ]
    },
    {
     "data": {
      "image/png": "[encoded data removed]",
      "text/plain": [
       "<Figure size 640x480 with 1 Axes>"
      ]
     },
     "metadata": {},
     "output_type": "display_data"
    },
    {
     "name": "stdout",
     "output_type": "stream",
     "text": [
      "正解は:8\n",
      "予測結果は:9\n",
      "[[ 0.06300187  0.01429133  0.03495493 ...  0.02776751 -0.05763921\n",
      "  -0.00759787]\n",
      " [-0.03198095  0.01381795 -0.01824304 ...  0.06378109  0.00453257\n",
      "   0.01435676]\n",
      " [ 0.06725538 -0.04813425 -0.04537446 ...  0.03989344 -0.04699669\n",
      "  -0.01648516]\n",
      " ...\n",
      " [-0.02571133  0.02809776  0.10875591 ... -0.03597355  0.03074085\n",
      "   0.01763069]\n",
      " [ 0.02699757 -0.03636457 -0.00686967 ... -0.00920771 -0.00089243\n",
      "   0.02344971]\n",
      " [ 0.00097252 -0.03004448  0.00856151 ... -0.06824825  0.07191712\n",
      "   0.02005035]]\n"
     ]
    }
   ],
   "source": [
    "import numpy as np\n",
    "import mnist\n",
    "\n",
    "X = mnist.download_and_parse_mnist_file(\"train-images-idx3-ubyte.gz\")\n",
    "Y = mnist.download_and_parse_mnist_file(\"train-labels-idx1-ubyte.gz\") \n",
    "\n",
    "import matplotlib.pyplot as plt\n",
    "from pylab import cm\n",
    "\n",
    "# シード値を固定する\n",
    "np.random.seed(0)\n",
    "# 画像サイズ\n",
    "picture_size = 28 * 28\n",
    "# 中間層の数\n",
    "M = 50 \n",
    "# 標準入力\n",
    "i = int(input(\"0~9999の整数を入力してください:\"))\n",
    "# クラス数\n",
    "C =10\n",
    "\n",
    "# 784次元ベクトル\n",
    "test_data = X[i].reshape(picture_size)\n",
    "\n",
    "# 　d×M行列W1\n",
    "W_1 = np.random.normal(0, 1/np.sqrt(picture_size), (picture_size, M))\n",
    "# M次元ベクトルb1\n",
    "b_1 = np.random.normal(0, 1/np.sqrt(picture_size), M)\n",
    "# 中間層前の計算結果\n",
    "dot_1 = np.dot(np.array(W_1).T, test_data) + b_1\n",
    "\n",
    "y_1 = 1 / (1 + np.exp(-dot_1))\n",
    "\n",
    "# C ×M行列W2\n",
    "W_2 = np.random.normal(0, 1/np.sqrt(picture_size), (M, C))\n",
    "# C次元ベクトルb2\n",
    "b_2 = np.random.normal(0, 1/np.sqrt(picture_size), C)\n",
    "# 出力層前の計算結果\n",
    "dot_2 = np.dot(np.array(W_2).T, y_1) + b_2\n",
    "\n",
    "#dot_2のうち、最大の要素\n",
    "alpha = np.max(dot_2)\n",
    "\n",
    "# ソフトマックス関数を適用した後のベクトル\n",
    "softmax_vector = np.exp(dot_2 - alpha) / np.sum(np.exp(dot_2 - alpha))\n",
    "\n",
    "# 結果\n",
    "result = np.argmax(softmax_vector)\n",
    "\n",
    "plt.imshow(X[i], cmap=cm.gray)\n",
    "plt.show()\n",
    "print(\"正解は:\"+str(Y[i]))\n",
    "\n",
    "print(\"予測結果は:\"+str(result))"
   ]
  }
 ],
 "metadata": {
  "kernelspec": {
   "display_name": "Python 3 (ipykernel)",
   "language": "python",
   "name": "python3"
  },
  "language_info": {
   "codemirror_mode": {
    "name": "ipython",
    "version": 3
   },
   "file_extension": ".py",
   "mimetype": "text/x-python",
   "name": "python",
   "nbconvert_exporter": "python",
   "pygments_lexer": "ipython3",
   "version": "3.8.15"
  }
 },
 "nbformat": 4,
 "nbformat_minor": 5
}
