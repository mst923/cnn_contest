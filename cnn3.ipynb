{
 "cells": [
  {
   "cell_type": "code",
   "execution_count": null,
   "id": "d75049b9-2079-415a-a4fc-cd84d81c6acf",
   "metadata": {},
   "outputs": [],
   "source": [
    "#クラス集\n",
    "#入力層、データの正規化を行う\n",
    "class Input:\n",
    "    def __init__(self, x):\n",
    "        self.x = x\n",
    "    def forward(self):\n",
    "        return self.x/255\n",
    "    \n",
    "class Convolution:\n",
    "    def __init__(self, W, b, stride, pad):\n",
    "        self.W = W\n",
    "        self.b = b\n",
    "        self.stride = stride\n",
    "        self.pad = pad\n",
    "        self.x = None\n",
    "        self.col = None\n",
    "        self.col_W = None\n",
    "        self.dw = None\n",
    "        self.db = None\n",
    "    def forward(self, x):\n",
    "        K, ch, fh, fw = self.W.shape\n",
    "        batch, ch, h, w = x.shape\n",
    "        out_h = int(1 + (h + 2 * self.pad - fh) / self.stride)\n",
    "        out_w = int(1 + (h + 2 * self.pad - fh) / self.stride)\n",
    "        #4次元配列を2次元に展開\n",
    "        col = im2col(x, FH, FW, self.stride, self.pad)\n",
    "        col_W = self.W.reshape(FN, -1).T # フィルター\n",
    "        out = np.dot(col, col_W) + self.b\n",
    "        out = out.reshape(batch, out_h, out_w, -1).transpose(0, 3, 1, 2)\n",
    "        self.x = x\n",
    "        self.col = col\n",
    "        self.col_W = col_W\n",
    "        return out\n",
    "    def "
   ]
  }
 ],
 "metadata": {
  "kernelspec": {
   "display_name": "Python 3 (ipykernel)",
   "language": "python",
   "name": "python3"
  },
  "language_info": {
   "codemirror_mode": {
    "name": "ipython",
    "version": 3
   },
   "file_extension": ".py",
   "mimetype": "text/x-python",
   "name": "python",
   "nbconvert_exporter": "python",
   "pygments_lexer": "ipython3",
   "version": "3.8.15"
  }
 },
 "nbformat": 4,
 "nbformat_minor": 5
}
